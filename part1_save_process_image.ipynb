{
 "cells": [
  {
   "cell_type": "code",
   "execution_count": 1,
   "metadata": {},
   "outputs": [
    {
     "data": {
      "text/plain": [
       "'\\nDate : 2019, APRIL\\nAuthor : Apiwit Theeraporn\\n'"
      ]
     },
     "execution_count": 1,
     "metadata": {},
     "output_type": "execute_result"
    }
   ],
   "source": [
    "#!/usr/bin/env python3\n",
    "\"\"\"\n",
    "Date : 2019, APRIL\n",
    "Author : Apiwit Theeraporn\n",
    "\"\"\""
   ]
  },
  {
   "cell_type": "code",
   "execution_count": 2,
   "metadata": {},
   "outputs": [],
   "source": [
    "# import libraries"
   ]
  },
  {
   "cell_type": "code",
   "execution_count": 3,
   "metadata": {},
   "outputs": [],
   "source": [
    "import os\n",
    "from io import BytesIO"
   ]
  },
  {
   "cell_type": "code",
   "execution_count": 4,
   "metadata": {},
   "outputs": [],
   "source": [
    "# import fundamental lib"
   ]
  },
  {
   "cell_type": "code",
   "execution_count": 5,
   "metadata": {},
   "outputs": [],
   "source": [
    "import numpy as np\n",
    "\n",
    "import cv2\n",
    "\n",
    "import glob"
   ]
  },
  {
   "cell_type": "code",
   "execution_count": 6,
   "metadata": {},
   "outputs": [],
   "source": [
    "# pre-deterministic input"
   ]
  },
  {
   "cell_type": "code",
   "execution_count": 7,
   "metadata": {},
   "outputs": [],
   "source": [
    "glob_train_dir = 'raw_images/*/*'\n",
    "process_dir = 'processed_images'\n",
    "\n",
    "# input image dimensions\n",
    "img_rows, img_cols = 215, 240\n",
    "kernel_size = (5,5)"
   ]
  },
  {
   "cell_type": "code",
   "execution_count": 8,
   "metadata": {},
   "outputs": [],
   "source": [
    "# gen image glob"
   ]
  },
  {
   "cell_type": "code",
   "execution_count": 9,
   "metadata": {},
   "outputs": [
    {
     "name": "stdout",
     "output_type": "stream",
     "text": [
      "['luv', 'fist', 'buff', 'rock']\n"
     ]
    }
   ],
   "source": [
    "image_path_generator = glob.glob(glob_train_dir)\n",
    "folder_arr = []\n",
    "for path in image_path_generator:\n",
    "    folder_name = path.split(\"/\")[2].split(\"_\")[0]\n",
    "    folder_arr.append(folder_name)\n",
    "    \n",
    "folder_arr = list(set(folder_arr));\n",
    "print(folder_arr)"
   ]
  },
  {
   "cell_type": "code",
   "execution_count": 10,
   "metadata": {},
   "outputs": [],
   "source": [
    "# Image Processing :"
   ]
  },
  {
   "cell_type": "code",
   "execution_count": 17,
   "metadata": {},
   "outputs": [],
   "source": [
    "# rgb --> grayscale with shape\n",
    "def grayMorphGradient(file_path,write_path):\n",
    "    string = file_path.split(\"/\"); #i.e. ['raw_images', 'train', 'rock_38.png']\n",
    "    image_name = string[2]; #rock_38.png\n",
    "    string2 = image_name.split(\".\"); #[rock_38,png]\n",
    "    file_name = string2[0];#rock_38,\n",
    "    folder_name = file_name.split(\"_\")[0]; #rock\n",
    "    img = cv2.imread(file_path);\n",
    "    rgb = cv2.cvtColor(img, cv2.COLOR_BGR2RGB);\n",
    "    m = cv2.getStructuringElement(cv2.MORPH_CROSS, kernel_size); # Cross Morph\n",
    "    morph = cv2.morphologyEx(rgb, cv2.MORPH_GRADIENT, m);\n",
    "    _open = cv2.morphologyEx(morph, cv2.MORPH_OPEN, kernel_size) # Eliminate background noise\n",
    "    final = cv2.cvtColor(_open, cv2.COLOR_RGB2GRAY);\n",
    "    try:\n",
    "        cv2.imwrite(process_dir+'/'+folder_name+'/'+file_name+'.png',final);\n",
    "        print('save image at',process_dir+'/'+folder_name+'/'+file_name+'.png')\n",
    "    except Exception as e:\n",
    "        print('Error',e)"
   ]
  },
  {
   "cell_type": "code",
   "execution_count": 18,
   "metadata": {},
   "outputs": [],
   "source": [
    "# Create Fodler path"
   ]
  },
  {
   "cell_type": "code",
   "execution_count": 19,
   "metadata": {},
   "outputs": [
    {
     "name": "stdout",
     "output_type": "stream",
     "text": [
      "folder already created\n"
     ]
    }
   ],
   "source": [
    "_dir = os.listdir();exist_path_generator = glob.glob(process_dir+'/**')\n",
    "if len(exist_path_generator) != len(folder_arr):\n",
    "    try:\n",
    "        os.mkdir(process_dir)\n",
    "        for subfolder in folder_arr:\n",
    "            os.mkdir(process_dir+'/'+subfolder)\n",
    "            print('created diractory : ' + process_dir+'/'+subfolder)\n",
    "    except Exception as e:\n",
    "        print('Error',e)    \n",
    "else:\n",
    "    print('folder already created')\n",
    "    pass;"
   ]
  },
  {
   "cell_type": "code",
   "execution_count": 20,
   "metadata": {},
   "outputs": [],
   "source": [
    "# create processed image from raw"
   ]
  },
  {
   "cell_type": "code",
   "execution_count": 21,
   "metadata": {},
   "outputs": [
    {
     "name": "stdout",
     "output_type": "stream",
     "text": [
      "save image at processed_images/rock/rock_38.png\n",
      "save image at processed_images/luv/luv_19.png\n",
      "save image at processed_images/luv/luv_18.png\n",
      "save image at processed_images/rock/rock_39.png\n",
      "save image at processed_images/fist/fist_5.png\n",
      "save image at processed_images/fist/fist_4.png\n",
      "save image at processed_images/fist/fist_6.png\n",
      "save image at processed_images/fist/fist_7.png\n",
      "save image at processed_images/fist/fist_3.png\n",
      "save image at processed_images/buff/buff_29.png\n",
      "save image at processed_images/buff/buff_28.png\n",
      "save image at processed_images/fist/fist_2.png\n",
      "save image at processed_images/fist/fist_0.png\n",
      "save image at processed_images/fist/fist_1.png\n",
      "save image at processed_images/buff/buff_26.png\n",
      "save image at processed_images/buff/buff_27.png\n",
      "save image at processed_images/buff/buff_25.png\n",
      "save image at processed_images/buff/buff_24.png\n",
      "save image at processed_images/buff/buff_20.png\n",
      "save image at processed_images/buff/buff_21.png\n",
      "save image at processed_images/fist/fist_9.png\n",
      "save image at processed_images/buff/buff_23.png\n",
      "save image at processed_images/buff/buff_22.png\n",
      "save image at processed_images/fist/fist_8.png\n",
      "save image at processed_images/rock/rock_34.png\n",
      "save image at processed_images/luv/luv_15.png\n",
      "save image at processed_images/luv/luv_14.png\n",
      "save image at processed_images/rock/rock_35.png\n",
      "save image at processed_images/rock/rock_37.png\n",
      "save image at processed_images/luv/luv_16.png\n",
      "save image at processed_images/luv/luv_17.png\n",
      "save image at processed_images/rock/rock_36.png\n",
      "save image at processed_images/rock/rock_32.png\n",
      "save image at processed_images/luv/luv_13.png\n",
      "save image at processed_images/luv/luv_12.png\n",
      "save image at processed_images/rock/rock_33.png\n",
      "save image at processed_images/rock/rock_31.png\n",
      "save image at processed_images/luv/luv_10.png\n",
      "save image at processed_images/luv/luv_11.png\n",
      "save image at processed_images/rock/rock_30.png\n"
     ]
    }
   ],
   "source": [
    "for image in image_path_generator:\n",
    "    grayMorphGradient(image,process_dir)    "
   ]
  },
  {
   "cell_type": "code",
   "execution_count": null,
   "metadata": {},
   "outputs": [],
   "source": []
  }
 ],
 "metadata": {
  "kernelspec": {
   "display_name": "Python 3",
   "language": "python",
   "name": "python3"
  },
  "language_info": {
   "codemirror_mode": {
    "name": "ipython",
    "version": 3
   },
   "file_extension": ".py",
   "mimetype": "text/x-python",
   "name": "python",
   "nbconvert_exporter": "python",
   "pygments_lexer": "ipython3",
   "version": "3.6.8"
  }
 },
 "nbformat": 4,
 "nbformat_minor": 2
}
